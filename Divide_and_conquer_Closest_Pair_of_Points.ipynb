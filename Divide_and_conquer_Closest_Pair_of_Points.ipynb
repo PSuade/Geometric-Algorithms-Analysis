{
  "nbformat": 4,
  "nbformat_minor": 0,
  "metadata": {
    "colab": {
      "provenance": [],
      "authorship_tag": "ABX9TyM3/0/sLu6jZcbXCneqNFk+",
      "include_colab_link": true
    },
    "kernelspec": {
      "name": "python3",
      "display_name": "Python 3"
    },
    "language_info": {
      "name": "python"
    }
  },
  "cells": [
    {
      "cell_type": "markdown",
      "metadata": {
        "id": "view-in-github",
        "colab_type": "text"
      },
      "source": [
        "<a href=\"https://colab.research.google.com/github/PSuade/Geometric-Algorithms-Analysis/blob/main/Divide_and_conquer_Closest_Pair_of_Points.ipynb\" target=\"_parent\"><img src=\"https://colab.research.google.com/assets/colab-badge.svg\" alt=\"Open In Colab\"/></a>"
      ]
    },
    {
      "cell_type": "code",
      "execution_count": null,
      "metadata": {
        "colab": {
          "base_uri": "https://localhost:8080/"
        },
        "id": "L2riStO8OwG1",
        "outputId": "1b59ea8c-98ac-458d-b267-bab046b9ba38"
      },
      "outputs": [
        {
          "output_type": "stream",
          "name": "stdout",
          "text": [
            "Divide and conquer Closest Pair of Points: ((363, 28), (364, 37)) with distance 9.055385138137417\n",
            "Brute Force Closest Pair of Points: ((363, 28), (364, 37)) with distance 9.055385138137417\n"
          ]
        }
      ],
      "source": [
        "import math\n",
        "import random\n",
        "import time\n",
        "\n",
        "def distanceFormula(p1, p2): #take in 2 points and apply the distance formula to them\n",
        "    return math.sqrt((p1[0] - p2[0]) ** 2 + (p1[1] - p2[1]) ** 2)\n",
        "\n",
        "def generatePoints(n): #randomly generate an X and Y value between 0 and 1000 for a list of points n times\n",
        "    for i in range(n):\n",
        "        x = random.randint(0,1000)\n",
        "        y = random.randint(0,1000)\n",
        "        points.append((x,y))\n",
        "    return points\n",
        "\n",
        "def bruteForceClosestPair(points): # compare each points distance to determine the minimum\n",
        "    minDistance = float('inf')\n",
        "    closestPair = (None, None)\n",
        "    for i in range(len(points)):\n",
        "        for j in range(i + 1, len(points)):\n",
        "            distance = distanceFormula(points[i], points[j])\n",
        "            if distance < minDistance:\n",
        "                minDistance = distance\n",
        "                closestPair = (points[i], points[j])\n",
        "    return minDistance, closestPair\n",
        "\n",
        "def stripClosest(strip, dist): # check for any potential overlap between seperate lists of points\n",
        "    minDistance = dist\n",
        "    closestPair = None\n",
        "    for i in range(len(strip)):\n",
        "        j = i + 1\n",
        "        while j < len(strip) and (strip[j][1] - strip[i][1]) < minDistance:\n",
        "            distance = distanceFormula(strip[i], strip[j])\n",
        "            if distance < minDistance:\n",
        "                minDistance = distance\n",
        "                closestPair = (strip[i], strip[j])\n",
        "            j += 1\n",
        "    return minDistance, closestPair\n",
        "\n",
        "def closestPair(points): # split the list into several smaller lists to speed up runtime\n",
        "    n = len(points)\n",
        "    if n <= 3:\n",
        "        return bruteForceClosestPair(points)\n",
        "\n",
        "    mid = n // 2\n",
        "    left = points[:mid]\n",
        "    right = points[mid:]\n",
        "    leftDist, leftPair = closestPair(left)\n",
        "    rightDist, rightPair = closestPair(right)\n",
        "    dist = min(leftDist, rightDist)\n",
        "    strip = [point for point in points if abs(point[0] - points[mid][0]) < dist]\n",
        "    strip.sort(key=lambda point: point[1])\n",
        "    stripDist, stripPair = stripClosest(strip, dist)\n",
        "\n",
        "    if stripPair:\n",
        "        return min(dist, stripDist), stripPair\n",
        "    elif leftDist <= rightDist:\n",
        "        return leftDist, leftPair\n",
        "    else:\n",
        "        return rightDist, rightPair\n",
        "\n",
        "# test run\n",
        "points = []\n",
        "points = generatePoints(100) #change this value to alter the number of points generated\n",
        "points.sort()\n",
        "if len(points) <= 50:\n",
        " print(points)\n",
        "closestDistance, closestPair = closestPair(points)\n",
        "print(\"Divide and conquer Closest Pair of Points:\", closestPair, \"with distance\", closestDistance)\n",
        "BFdistance, BFclosestPair = bruteForceClosestPair(points)\n",
        "print(\"Brute Force Closest Pair of Points:\", closestPair, \"with distance\", closestDistance)"
      ]
    }
  ]
}