{
  "nbformat": 4,
  "nbformat_minor": 0,
  "metadata": {
    "colab": {
      "provenance": [],
      "authorship_tag": "ABX9TyNfhxUugb0C/yWODfYBAOR4",
      "include_colab_link": true
    },
    "kernelspec": {
      "name": "python3",
      "display_name": "Python 3"
    },
    "language_info": {
      "name": "python"
    }
  },
  "cells": [
    {
      "cell_type": "markdown",
      "metadata": {
        "id": "view-in-github",
        "colab_type": "text"
      },
      "source": [
        "<a href=\"https://colab.research.google.com/github/PSuade/Geometric-Algorithms-Analysis/blob/main/Divide_and_conquer_Closest_Pair_of_Points.ipynb\" target=\"_parent\"><img src=\"https://colab.research.google.com/assets/colab-badge.svg\" alt=\"Open In Colab\"/></a>"
      ]
    },
    {
      "cell_type": "code",
      "execution_count": 19,
      "metadata": {
        "colab": {
          "base_uri": "https://localhost:8080/",
          "height": 482
        },
        "id": "L2riStO8OwG1",
        "outputId": "388e9d52-64f3-42aa-8ff1-bcbbd6a00e75"
      },
      "outputs": [
        {
          "output_type": "stream",
          "name": "stdout",
          "text": [
            "Divide and conquer Closest Pair of Points: ((142, 684), (137, 687)) with distance 5.830951894845301 with runime 0.0009109973907470703\n",
            "Brute Force Closest Pair of Points: ((142, 684), (137, 687)) with distance 5.830951894845301 with runtime 0.012923955917358398\n"
          ]
        },
        {
          "output_type": "execute_result",
          "data": {
            "text/plain": [
              "[<matplotlib.lines.Line2D at 0x7d0b649d7ac0>]"
            ]
          },
          "metadata": {},
          "execution_count": 19
        },
        {
          "output_type": "display_data",
          "data": {
            "text/plain": [
              "<Figure size 640x480 with 1 Axes>"
            ],
            "image/png": "[encoded data removed]"
          },
          "metadata": {}
        }
      ],
      "source": [
        "import math\n",
        "import random\n",
        "import time\n",
        "import matplotlib.pyplot as plt\n",
        "\n",
        "\n",
        "def distanceFormula(p1, p2): #take in 2 points and apply the distance formula to them\n",
        "    return math.sqrt((p1[0] - p2[0]) ** 2 + (p1[1] - p2[1]) ** 2)\n",
        "\n",
        "def generatePoints(n): #randomly generate an X and Y value between 0 and 1000 for a list of points n times\n",
        "    for i in range(n):\n",
        "        x = random.randint(0,1000)\n",
        "        y = random.randint(0,1000)\n",
        "        points.append((x,y))\n",
        "    return points\n",
        "\n",
        "def bruteForceClosestPair(points): # compare each points distance to determine the minimum\n",
        "    minDistance = float('inf')\n",
        "    closestPair = (None, None)\n",
        "    for i in range(len(points)):\n",
        "        for j in range(i + 1, len(points)):\n",
        "            distance = distanceFormula(points[i], points[j])\n",
        "            if distance < minDistance:\n",
        "                minDistance = distance\n",
        "                closestPair = (points[i], points[j])\n",
        "    return minDistance, closestPair\n",
        "\n",
        "def stripClosest(strip, dist): # check for any potential overlap between seperate lists of points\n",
        "    minDistance = dist\n",
        "    closestPair = None\n",
        "    for i in range(len(strip)): # iterates through each point in strip\n",
        "        j = i + 1\n",
        "        while j < len(strip) and (strip[j][1] - strip[i][1]) < minDistance: #limits the search to points within potential range of the minimum distance\n",
        "            distance = distanceFormula(strip[i], strip[j])\n",
        "            if distance < minDistance:\n",
        "                minDistance = distance\n",
        "                closestPair = (strip[i], strip[j])\n",
        "            j += 1\n",
        "    return minDistance, closestPair\n",
        "\n",
        "def closestPair(points): # split the list into several smaller lists to speed up runtime\n",
        "    n = len(points)\n",
        "    if n <= 3:\n",
        "        return bruteForceClosestPair(points)\n",
        "\n",
        "    mid = n // 2 # Floor division ensures we always get a whole number\n",
        "    left = points[:mid] # eliminates the right half of the list of points\n",
        "    right = points[mid:] # eliminates the left side of the list of points\n",
        "    leftDist, leftPair = closestPair(left) #recursivly calls until the size of left is less than or equal to 3\n",
        "    rightDist, rightPair = closestPair(right) #recursivly calls until the size of right is less than or equal to 3\n",
        "    dist = min(leftDist, rightDist)\n",
        "    strip = [point for point in points if abs(point[0] - points[mid][0]) < dist] # creates a shorter list based on the distance of the X coordinate\n",
        "    strip.sort(key=lambda point: point[1]) # sorts strip by the Y coordinate\n",
        "    stripDist, stripPair = stripClosest(strip, dist)\n",
        "\n",
        "    if stripPair:\n",
        "        return min(dist, stripDist), stripPair\n",
        "    elif leftDist <= rightDist:\n",
        "        return leftDist, leftPair\n",
        "    else:\n",
        "        return rightDist, rightPair\n",
        "\n",
        "# test run\n",
        "points = []\n",
        "points = generatePoints(100) #change this value to alter the number of points generated\n",
        "points.sort()\n",
        "DCstartTime = time.time()\n",
        "closestDistance, closestPair = closestPair(points)\n",
        "DCendTime = time.time()\n",
        "DCrunTime = DCendTime-DCstartTime # calculate the runtime of the divide and conquer method\n",
        "print(\"Divide and conquer Closest Pair of Points:\", closestPair, \"with distance\", closestDistance, 'with runime', DCrunTime)\n",
        "BFstartTime = time.time()\n",
        "BFdistance, BFclosestPair = bruteForceClosestPair(points)\n",
        "BFendTime = time.time()\n",
        "BFrunTime = BFendTime-BFstartTime # calculate the runtime of the Brute force method\n",
        "print(\"Brute Force Closest Pair of Points:\", closestPair, \"with distance\", closestDistance, \"with runtime\", BFrunTime)\n",
        "X,Y = zip(*points) # split the array points into 2 seperate arrays\n",
        "ClosestX, ClosestY = zip(*closestPair) #split the array into 2 seperate variables\n",
        "plt.plot(X,Y,'ob') # plot all points in blue\n",
        "plt.plot(ClosestX,ClosestY,'or') # plot the closest pair in red"
      ]
    },
    {
      "cell_type": "code",
      "source": [],
      "metadata": {
        "id": "DAUbNlbmk381"
      },
      "execution_count": null,
      "outputs": []
    }
  ]
}