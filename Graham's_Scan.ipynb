{
  "nbformat": 4,
  "nbformat_minor": 0,
  "metadata": {
    "colab": {
      "provenance": [],
      "authorship_tag": "ABX9TyMiCiIo7afRw0HRyqB7Sp1z",
      "include_colab_link": true
    },
    "kernelspec": {
      "name": "python3",
      "display_name": "Python 3"
    },
    "language_info": {
      "name": "python"
    }
  },
  "cells": [
    {
      "cell_type": "markdown",
      "metadata": {
        "id": "view-in-github",
        "colab_type": "text"
      },
      "source": [
        "<a href=\"https://colab.research.google.com/github/PSuade/Geometric-Algorithms-Analysis/blob/main/Graham's_Scan.ipynb\" target=\"_parent\"><img src=\"https://colab.research.google.com/assets/colab-badge.svg\" alt=\"Open In Colab\"/></a>"
      ]
    },
    {
      "cell_type": "code",
      "execution_count": null,
      "metadata": {
        "id": "W_F4QkuGSB6w"
      },
      "outputs": [],
      "source": [
        "import random\n",
        "import timeit\n",
        "import math\n",
        "import matplotlib.pyplot as plt\n",
        "\n",
        "def graham_scan(points): # Function calculates the polar angle of a point with respect to a reference point\n",
        "\n",
        "    def polar_angle(point, reference):\n",
        "        return math.atan2(point[1] - reference[1], point[0] - reference[0]) #point[1] - reference[1] = vertical distance , #point[0] - reference[0] = Horizontal\n",
        "\n",
        "    if len(points) < 3: # Convex hull not possible with less than 3 points\n",
        "        return []\n",
        "\n",
        "    reference_point = min(points, key=lambda point: (point[1], -point[0])) # Finds the reference point (compares all of the points and finds lowest y coordinate point)\n",
        "\n",
        "    sorted_points = sorted(points, key=lambda point: polar_angle(point, reference_point))  # Sorts the points by polar angle with respect to the reference point\n",
        "\n",
        "    convex_hull = [sorted_points[0], sorted_points[1]]    # Initializes the convex hull with the first two points\n",
        "\n",
        "    for i in range(2, len(sorted_points)): #Iterates through sorted points\n",
        "        while (\n",
        "            len(convex_hull) > 1\n",
        "            and (\n",
        "                (convex_hull[-1][0] - convex_hull[-2][0]) * (sorted_points[i][1] - convex_hull[-2][1])  #Checks if cross product of vectors formed by last two points of convex hull\n",
        "                - (convex_hull[-1][1] - convex_hull[-2][1]) * (sorted_points[i][0] - convex_hull[-2][0]) #and current point is <=0\n",
        "            ) <= 0\n",
        "        ):\n",
        "            # Remove the last point from the convex hull if it makes a right turn\n",
        "            convex_hull.pop()\n",
        "\n",
        "        # Add the current point to the convex hull if it makes a left turn\n",
        "        convex_hull.append(sorted_points[i])\n",
        "\n",
        "    return convex_hull\n",
        "\n",
        "# Generates random integer points for empirical analysis\n",
        "def generate_random_integer_points(n, min_val, max_val):\n",
        "    return [(random.randint(min_val, max_val), random.randint(min_val, max_val)) for _ in range(n)]\n",
        "\n",
        "# Function to measure execution time for Graham's scan\n",
        "def measure_execution_time(n):\n",
        "    points = generate_random_integer_points(n, -100, 100)\n",
        "    reference_point = min(points, key=lambda point: (point[1], -point[0]))  # Define the reference point\n",
        "\n",
        "    convex_hull = graham_scan(points)\n",
        "\n",
        "    # Visualization\n",
        "    x, y = zip(*points)  # Split points into x and y coordinates\n",
        "    hx, hy = zip(*convex_hull)  # Split convex hull points into x and y coordinates\n",
        "\n",
        "    # Plots the points in blue and the convex hull in red\n",
        "    plt.scatter(x, y, color='blue', label='Points')\n",
        "    plt.plot(hx + (hx[0],), hy + (hy[0],), color='red', label='Convex Hull')\n",
        "\n",
        "    # Plots the reference point in green\n",
        "    plt.scatter(reference_point[0], reference_point[1], color='green', label='Reference Point', marker='o', s=50)\n",
        "\n",
        "    # Intializes a legend in the plot\n",
        "    plt.legend()\n",
        "\n",
        "    plt.xlabel('X-coordinate')\n",
        "    plt.ylabel('Y-coordinate')\n",
        "    plt.title(f'Convex Hull for Input size {n}')\n",
        "    plt.show()\n",
        "\n",
        "    return timeit.timeit(lambda: graham_scan(points), number=10)\n",
        "\n",
        "input_sizes = [10, 100, 1000, 2000]\n",
        "\n",
        "for n in input_sizes:\n",
        "    execution_time = measure_execution_time(n)\n",
        "    print(f\"Input size {n}: Average Execution Time: {execution_time} seconds\")\n"
      ]
    }
  ]
}